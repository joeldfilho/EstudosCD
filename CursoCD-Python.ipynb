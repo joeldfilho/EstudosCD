{
 "metadata": {
  "language_info": {
   "codemirror_mode": {
    "name": "ipython",
    "version": 3
   },
   "file_extension": ".py",
   "mimetype": "text/x-python",
   "name": "python",
   "nbconvert_exporter": "python",
   "pygments_lexer": "ipython3",
   "version": "3.9.0-final"
  },
  "orig_nbformat": 2,
  "kernelspec": {
   "name": "python3",
   "display_name": "Python 3.9.0 64-bit",
   "metadata": {
    "interpreter": {
     "hash": "63fd5069d213b44bf678585dea6b12cceca9941eaf7f819626cde1f2670de90d"
    }
   }
  }
 },
 "nbformat": 4,
 "nbformat_minor": 2,
 "cells": [
  {
   "source": [
    "from numpy import *\n",
    "a = random.random((8,8))\n",
    "print(a)"
   ],
   "cell_type": "code",
   "metadata": {},
   "execution_count": null,
   "outputs": []
  },
  {
   "cell_type": "code",
   "execution_count": 4,
   "metadata": {},
   "outputs": [
    {
     "output_type": "stream",
     "name": "stdout",
     "text": [
      "8\n"
     ]
    }
   ],
   "source": [
    "#pra criar funções em python usamos def\n",
    "\n",
    "def soma(a, b):\n",
    "    return a + b\n",
    "print(soma(3,5))"
   ]
  },
  {
   "cell_type": "code",
   "execution_count": 14,
   "metadata": {},
   "outputs": [
    {
     "output_type": "stream",
     "name": "stdout",
     "text": [
      "A amplitude é:  6\nP\nY\nT\nH\nO\nN\nTransporte não é aceito.\nValor será de R$80,00\nO valor será de R$50,00\n"
     ]
    }
   ],
   "source": [
    "#faça um programa que tenha uma função chamada amplitude. A função deve receber uma lista e imprimir a amplitude(diferença entre maior e menor elementos)\n",
    "\n",
    "def calculaAmplitude(lista):\n",
    "    menor = min(lista)\n",
    "    maior = max(lista)\n",
    "    print(\"A amplitude é: \", maior-menor)\n",
    "\n",
    "\n",
    "lst = {1,2,3,4,5,6,7}\n",
    "calculaAmplitude(lst)\n",
    "\n",
    "#faça uma função que receba uma string e imprima esta string na forma vertical\n",
    "\n",
    "def imprime_vertical(palavra):\n",
    "    for letra in palavra:\n",
    "        print(letra)\n",
    "\n",
    "imprime_vertical(\"PYTHON\")\n",
    "\n",
    "def calcula_carga(peso):\n",
    "    peso_total=0\n",
    "    for peso_individual in peso:\n",
    "        peso_total = peso_total + peso_individual\n",
    "    \n",
    "    if(peso_total > 20):\n",
    "        print(\"Transporte não é aceito.\")\n",
    "    elif(peso_total > 10):\n",
    "        print(\"Valor será de R$80,00\")\n",
    "    else:\n",
    "        print(\"O valor será de R$50,00\")\n",
    "\n",
    "pesos1 = {1,5,7,9,2,4,7,9,4,1,4,7,645,1,3}\n",
    "pesos2 = {4,3,2,1,6,4,4,4,4}\n",
    "pesos3 = {1,2,3}\n",
    "\n",
    "calcula_carga(pesos1)\n",
    "calcula_carga(pesos2)\n",
    "calcula_carga(pesos3)"
   ]
  },
  {
   "cell_type": "code",
   "execution_count": null,
   "metadata": {},
   "outputs": [],
   "source": []
  }
 ]
}